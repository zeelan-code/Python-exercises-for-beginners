{
 "cells": [
  {
   "cell_type": "markdown",
   "id": "35699877",
   "metadata": {},
   "source": [
    "# Exercise 9: Check Palindrome Number"
   ]
  },
  {
   "cell_type": "raw",
   "id": "3ba99aeb",
   "metadata": {},
   "source": [
    "Write a program to check if the given number is a palindrome number.\n",
    "\n",
    "A palindrome number is a number that is same after reverse. For example 545, is the palindrome numbers"
   ]
  },
  {
   "cell_type": "code",
   "execution_count": 7,
   "id": "ac5a6217",
   "metadata": {},
   "outputs": [
    {
     "name": "stdout",
     "output_type": "stream",
     "text": [
      "Enter palindrome number:121\n",
      "Number is a palindrome\n"
     ]
    }
   ],
   "source": [
    "num=input('Enter palindrome number:')\n",
    "rev=num[::-1]\n",
    "if rev==num:\n",
    "    print('Number is a palindrome')\n",
    "else:\n",
    "    print('Number is not palindrome')"
   ]
  },
  {
   "cell_type": "code",
   "execution_count": 20,
   "id": "6e65155e",
   "metadata": {},
   "outputs": [
    {
     "ename": "SyntaxError",
     "evalue": "invalid syntax (1634941203.py, line 2)",
     "output_type": "error",
     "traceback": [
      "\u001b[1;36m  Input \u001b[1;32mIn [20]\u001b[1;36m\u001b[0m\n\u001b[1;33m    rev=0.join(reversed(string))\u001b[0m\n\u001b[1;37m           ^\u001b[0m\n\u001b[1;31mSyntaxError\u001b[0m\u001b[1;31m:\u001b[0m invalid syntax\n"
     ]
    }
   ],
   "source": [
    "string='maam'\n",
    "rev=''.join(reversed(string))\n",
    "if string==rev:\n",
    "    print('Palindrome')\n",
    "else:\n",
    "    print('sorry')"
   ]
  },
  {
   "cell_type": "code",
   "execution_count": null,
   "id": "73936bcb",
   "metadata": {},
   "outputs": [],
   "source": []
  }
 ],
 "metadata": {
  "kernelspec": {
   "display_name": "Python 3 (ipykernel)",
   "language": "python",
   "name": "python3"
  },
  "language_info": {
   "codemirror_mode": {
    "name": "ipython",
    "version": 3
   },
   "file_extension": ".py",
   "mimetype": "text/x-python",
   "name": "python",
   "nbconvert_exporter": "python",
   "pygments_lexer": "ipython3",
   "version": "3.9.12"
  }
 },
 "nbformat": 4,
 "nbformat_minor": 5
}
