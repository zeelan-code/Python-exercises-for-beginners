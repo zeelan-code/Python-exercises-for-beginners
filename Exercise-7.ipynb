{
 "cells": [
  {
   "cell_type": "markdown",
   "id": "26c62d6d",
   "metadata": {},
   "source": [
    "# Exercise 7: Return the count of a given substring from a string"
   ]
  },
  {
   "cell_type": "markdown",
   "id": "9a833ee0",
   "metadata": {},
   "source": [
    "Write a program to find how many times substring “Emma” appears in the given string.\n",
    "\n",
    "Given:\n",
    "\n",
    "str_x = \"Emma is good developer. Emma is a writer\""
   ]
  },
  {
   "cell_type": "raw",
   "id": "135d73b3",
   "metadata": {},
   "source": [
    "Solution-1 "
   ]
  },
  {
   "cell_type": "code",
   "execution_count": 2,
   "id": "2de200f8",
   "metadata": {},
   "outputs": [
    {
     "name": "stdout",
     "output_type": "stream",
     "text": [
      "Emma appreaed 3 times in given string.\n"
     ]
    }
   ],
   "source": [
    "str_x = \"Emma is good developer. Emma is a writer. Emma is from New York\"\n",
    "n=str_x.count('Emma')\n",
    "print(\"Emma appeared\",n,\"times in given string.\")"
   ]
  },
  {
   "cell_type": "raw",
   "id": "97d84672",
   "metadata": {},
   "source": [
    "Solution-2"
   ]
  },
  {
   "cell_type": "code",
   "execution_count": 4,
   "id": "e12596f2",
   "metadata": {},
   "outputs": [
    {
     "name": "stdout",
     "output_type": "stream",
     "text": [
      "Emma appeared 3 times in given string.\n"
     ]
    }
   ],
   "source": [
    "str_x = \"Emma is good developer. Emma is a writer. Emma is from New York\"\n",
    "def count_emma(str_x):\n",
    "    count=0\n",
    "    for i in range(len(str_x)-1):\n",
    "        count = count + (str_x[i:i+4]==\"Emma\")\n",
    "    return count\n",
    "    \n",
    "count=count_emma(str_x)\n",
    "print(\"Emma appeared\",count,\"times in given string.\")\n",
    "\n"
   ]
  },
  {
   "cell_type": "code",
   "execution_count": null,
   "id": "d9ff2a4e",
   "metadata": {},
   "outputs": [],
   "source": []
  }
 ],
 "metadata": {
  "kernelspec": {
   "display_name": "Python 3 (ipykernel)",
   "language": "python",
   "name": "python3"
  },
  "language_info": {
   "codemirror_mode": {
    "name": "ipython",
    "version": 3
   },
   "file_extension": ".py",
   "mimetype": "text/x-python",
   "name": "python",
   "nbconvert_exporter": "python",
   "pygments_lexer": "ipython3",
   "version": "3.9.12"
  }
 },
 "nbformat": 4,
 "nbformat_minor": 5
}
