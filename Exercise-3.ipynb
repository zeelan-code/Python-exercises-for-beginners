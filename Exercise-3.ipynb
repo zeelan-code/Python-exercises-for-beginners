{
 "cells": [
  {
   "cell_type": "markdown",
   "id": "53b6bcde",
   "metadata": {},
   "source": [
    "# Exercise 3: Print characters from a string that are present at an even index number"
   ]
  },
  {
   "cell_type": "raw",
   "id": "6a0be3d6",
   "metadata": {},
   "source": [
    "Write a program to accept a string from the user and display characters that are present at an even index number"
   ]
  },
  {
   "cell_type": "code",
   "execution_count": 5,
   "id": "89a909c7",
   "metadata": {},
   "outputs": [
    {
     "name": "stdout",
     "output_type": "stream",
     "text": [
      "Enter any word: zeelan\n",
      "Original string is zeelan\n",
      "Printing only even index characters:\n",
      "Index[ 0 ] z\n",
      "Index[ 2 ] e\n",
      "Index[ 4 ] a\n"
     ]
    }
   ],
   "source": [
    "word = input('Enter any word: ')\n",
    "print('Original string is',word)\n",
    "\n",
    "size=len(word)\n",
    "print(\"Printing only even index characters:\")\n",
    "for i in range(0,size-1,2):\n",
    "    print('Index[',i,']',word[i])\n"
   ]
  },
  {
   "cell_type": "code",
   "execution_count": null,
   "id": "15a65d8a",
   "metadata": {},
   "outputs": [],
   "source": []
  }
 ],
 "metadata": {
  "kernelspec": {
   "display_name": "Python 3 (ipykernel)",
   "language": "python",
   "name": "python3"
  },
  "language_info": {
   "codemirror_mode": {
    "name": "ipython",
    "version": 3
   },
   "file_extension": ".py",
   "mimetype": "text/x-python",
   "name": "python",
   "nbconvert_exporter": "python",
   "pygments_lexer": "ipython3",
   "version": "3.9.12"
  }
 },
 "nbformat": 4,
 "nbformat_minor": 5
}
