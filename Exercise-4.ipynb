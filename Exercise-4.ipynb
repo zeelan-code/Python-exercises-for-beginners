{
 "cells": [
  {
   "cell_type": "markdown",
   "id": "d5afcbbf",
   "metadata": {},
   "source": [
    "# Exercise 4: Remove first n characters from a string"
   ]
  },
  {
   "cell_type": "raw",
   "id": "510205b2",
   "metadata": {},
   "source": [
    "Write a program to remove characters from a string starting from zero up to n and return a new string.\n",
    "\n",
    "For example:\n",
    "\n",
    "remove_chars(\"pynative\", 4) so output must be tive. Here we need to remove first four characters from a string.\n",
    "remove_chars(\"pynative\", 2) so output must be native. Here we need to remove first two characters from a string.\n",
    "Note: n must be less than the length of the string."
   ]
  },
  {
   "cell_type": "code",
   "execution_count": 12,
   "id": "daf19880",
   "metadata": {},
   "outputs": [
    {
     "name": "stdout",
     "output_type": "stream",
     "text": [
      "Removing characters from string\n",
      "Original string : pynative\n",
      "tive\n",
      "Original string : pynative\n",
      "native\n"
     ]
    }
   ],
   "source": [
    "def remove_chars(word,x):\n",
    "    print(\"Original string :\",word)\n",
    "    y=word[x:]\n",
    "    return y\n",
    "\n",
    "print(\"Removing characters from string\")\n",
    "print(remove_chars(\"pynative\", 4))\n",
    "print(remove_chars(\"pynative\", 2))\n",
    "    \n"
   ]
  },
  {
   "cell_type": "code",
   "execution_count": null,
   "id": "83988cf8",
   "metadata": {},
   "outputs": [],
   "source": []
  }
 ],
 "metadata": {
  "kernelspec": {
   "display_name": "Python 3 (ipykernel)",
   "language": "python",
   "name": "python3"
  },
  "language_info": {
   "codemirror_mode": {
    "name": "ipython",
    "version": 3
   },
   "file_extension": ".py",
   "mimetype": "text/x-python",
   "name": "python",
   "nbconvert_exporter": "python",
   "pygments_lexer": "ipython3",
   "version": "3.9.12"
  }
 },
 "nbformat": 4,
 "nbformat_minor": 5
}
