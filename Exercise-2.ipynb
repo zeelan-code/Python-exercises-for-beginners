{
 "cells": [
  {
   "cell_type": "markdown",
   "id": "9e6b75da",
   "metadata": {},
   "source": [
    "# Exercise 2: Print the sum of the current number and the previous number"
   ]
  },
  {
   "cell_type": "raw",
   "id": "3221eb68",
   "metadata": {},
   "source": [
    "Write a program to iterate the first 10 numbers and in each iteration, print the sum of the current and previous number."
   ]
  },
  {
   "cell_type": "code",
   "execution_count": 8,
   "id": "9b00491f",
   "metadata": {},
   "outputs": [
    {
     "name": "stdout",
     "output_type": "stream",
     "text": [
      "Current Number  0 Previous Number 0 Sum: 0\n",
      "Current Number  1 Previous Number 0 Sum: 1\n",
      "Current Number  2 Previous Number 1 Sum: 3\n",
      "Current Number  3 Previous Number 2 Sum: 5\n",
      "Current Number  4 Previous Number 3 Sum: 7\n",
      "Current Number  5 Previous Number 4 Sum: 9\n",
      "Current Number  6 Previous Number 5 Sum: 11\n",
      "Current Number  7 Previous Number 6 Sum: 13\n",
      "Current Number  8 Previous Number 7 Sum: 15\n",
      "Current Number  9 Previous Number 8 Sum: 17\n"
     ]
    }
   ],
   "source": [
    "previous_num=0\n",
    "for i in range(10):\n",
    "    current_num=i\n",
    "    res=previous_num+current_num\n",
    "    print(\"Current Number \",current_num,\"Previous Number\",previous_num,\"Sum:\",res)\n",
    "    previous_num=i"
   ]
  },
  {
   "cell_type": "code",
   "execution_count": null,
   "id": "c08fc1e2",
   "metadata": {},
   "outputs": [],
   "source": []
  }
 ],
 "metadata": {
  "kernelspec": {
   "display_name": "Python 3 (ipykernel)",
   "language": "python",
   "name": "python3"
  },
  "language_info": {
   "codemirror_mode": {
    "name": "ipython",
    "version": 3
   },
   "file_extension": ".py",
   "mimetype": "text/x-python",
   "name": "python",
   "nbconvert_exporter": "python",
   "pygments_lexer": "ipython3",
   "version": "3.9.12"
  }
 },
 "nbformat": 4,
 "nbformat_minor": 5
}
