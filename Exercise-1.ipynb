{
 "cells": [
  {
   "cell_type": "markdown",
   "id": "6a9916ea",
   "metadata": {},
   "source": [
    "# Exercise 1: Calculate the multiplication and sum of two numbers"
   ]
  },
  {
   "cell_type": "code",
   "execution_count": 3,
   "id": "e54fc76f",
   "metadata": {},
   "outputs": [
    {
     "name": "stdout",
     "output_type": "stream",
     "text": [
      "Product of two numbers is 400\n",
      "Sum of two numbers is 50\n"
     ]
    }
   ],
   "source": [
    "#Multiplication and sum of two numbers\n",
    "\n",
    "a=10\n",
    "b=40\n",
    "print('Product of two numbers is', a*b)\n",
    "print('Sum of two numbers is', a+b)"
   ]
  },
  {
   "cell_type": "code",
   "execution_count": 6,
   "id": "94f19fc0",
   "metadata": {},
   "outputs": [
    {
     "name": "stdout",
     "output_type": "stream",
     "text": [
      "Enter first number :22\n",
      "Enter second number:10\n",
      "Product of two numbers is: 220.0\n",
      "Sum of two numbers is: 32.0\n"
     ]
    }
   ],
   "source": [
    "#taking input from the user\n",
    "\n",
    "first_number=float(input('Enter first number :'))\n",
    "second_number=float(input('Enter second number:'))\n",
    "\n",
    "Product=first_number*second_number #multiply two numbers\n",
    "Sum=first_number+second_number #add two number\n",
    "\n",
    "print('Product of two numbers is:',Product)\n",
    "print('Sum of two numbers is:',Sum)"
   ]
  },
  {
   "cell_type": "code",
   "execution_count": null,
   "id": "d5140e18",
   "metadata": {},
   "outputs": [],
   "source": []
  }
 ],
 "metadata": {
  "kernelspec": {
   "display_name": "Python 3 (ipykernel)",
   "language": "python",
   "name": "python3"
  },
  "language_info": {
   "codemirror_mode": {
    "name": "ipython",
    "version": 3
   },
   "file_extension": ".py",
   "mimetype": "text/x-python",
   "name": "python",
   "nbconvert_exporter": "python",
   "pygments_lexer": "ipython3",
   "version": "3.9.12"
  }
 },
 "nbformat": 4,
 "nbformat_minor": 5
}
