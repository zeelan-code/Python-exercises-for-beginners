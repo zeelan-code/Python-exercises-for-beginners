{
 "cells": [
  {
   "cell_type": "markdown",
   "id": "157f4e06",
   "metadata": {},
   "source": [
    "# Exercise 12: Calculate income tax for the given income by adhering to the below rules"
   ]
  },
  {
   "cell_type": "markdown",
   "id": "beadc180",
   "metadata": {},
   "source": [
    "Taxable Income\tRate (in %)\n",
    "First $10,000\t0\n",
    "Next $10,000\t10\n",
    "The remaining\t20\n",
    "Expected Output:\n",
    "\n",
    "For example, suppose the taxable income is 45000 the income tax payable is\n",
    "\n",
    "10000*0% + 10000*10%  + 25000*20% = $6000."
   ]
  },
  {
   "cell_type": "code",
   "execution_count": 1,
   "id": "92917d10",
   "metadata": {},
   "outputs": [
    {
     "name": "stdout",
     "output_type": "stream",
     "text": [
      "Enter your income($):45000\n",
      "Income tax to be paid: 6000.0\n"
     ]
    }
   ],
   "source": [
    "income=int(input(\"Enter your income($):\"))\n",
    "tax=0\n",
    "if income<=10000:\n",
    "    tax=0\n",
    "elif income<=20000:\n",
    "    income=income-10000\n",
    "    tax=income*0.1\n",
    "else:\n",
    "    tax=0\n",
    "    tax=(10000*0.1)+((income-20000)*0.2)\n",
    "    \n",
    "print(\"Income tax to be paid:\",tax)"
   ]
  },
  {
   "cell_type": "code",
   "execution_count": null,
   "id": "5e17f158",
   "metadata": {},
   "outputs": [],
   "source": []
  }
 ],
 "metadata": {
  "kernelspec": {
   "display_name": "Python 3 (ipykernel)",
   "language": "python",
   "name": "python3"
  },
  "language_info": {
   "codemirror_mode": {
    "name": "ipython",
    "version": 3
   },
   "file_extension": ".py",
   "mimetype": "text/x-python",
   "name": "python",
   "nbconvert_exporter": "python",
   "pygments_lexer": "ipython3",
   "version": "3.9.12"
  }
 },
 "nbformat": 4,
 "nbformat_minor": 5
}
