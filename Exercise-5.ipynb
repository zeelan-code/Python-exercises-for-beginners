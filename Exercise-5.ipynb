{
 "cells": [
  {
   "cell_type": "markdown",
   "id": "ad0e9b04",
   "metadata": {},
   "source": [
    "# Exercise 5: Check if the first and last number of a list is the same"
   ]
  },
  {
   "cell_type": "raw",
   "id": "0bedbe0b",
   "metadata": {},
   "source": [
    "Write a function to return True if the first and last number of a given list is same. If numbers are different then return False.\n",
    "\n",
    "Given:\n",
    "numbers_x = [10, 20, 30, 40, 10]\n",
    "numbers_y = [75, 65, 35, 75, 30]"
   ]
  },
  {
   "cell_type": "markdown",
   "id": "f8cca7d3",
   "metadata": {},
   "source": [
    "Solution-1"
   ]
  },
  {
   "cell_type": "code",
   "execution_count": 1,
   "id": "cd9d48a1",
   "metadata": {},
   "outputs": [
    {
     "name": "stdout",
     "output_type": "stream",
     "text": [
      "True\n",
      "False\n"
     ]
    }
   ],
   "source": [
    "numbers_x = [10, 20, 30, 40, 10]\n",
    "numbers_y = [75, 65, 35, 75, 30]\n",
    "\n",
    "#check() function to verify if the first and last number are same\n",
    "def check(x): \n",
    "    size=len(x)\n",
    "    if x[0]==x[size-1]:\n",
    "        return True\n",
    "    else:\n",
    "        return False\n",
    "    \n",
    "\n",
    "print(check(numbers_x))\n",
    "print(check(numbers_y))"
   ]
  },
  {
   "cell_type": "markdown",
   "id": "8fa26d5a",
   "metadata": {},
   "source": [
    "Solution-2"
   ]
  },
  {
   "cell_type": "code",
   "execution_count": 2,
   "id": "94e1e16f",
   "metadata": {},
   "outputs": [
    {
     "name": "stdout",
     "output_type": "stream",
     "text": [
      "True\n",
      "False\n"
     ]
    }
   ],
   "source": [
    "numbers_x = [10, 20, 30, 40, 10]\n",
    "numbers_y = [75, 65, 35, 75, 30]\n",
    "\n",
    "#check() function to verify if the first and last number are same\n",
    "def check(x): \n",
    "    if x[0]==x[-1]:\n",
    "        return True\n",
    "    else:\n",
    "        return False\n",
    "    \n",
    "\n",
    "print(check(numbers_x))\n",
    "print(check(numbers_y))"
   ]
  },
  {
   "cell_type": "code",
   "execution_count": null,
   "id": "2fe28c42",
   "metadata": {},
   "outputs": [],
   "source": []
  }
 ],
 "metadata": {
  "kernelspec": {
   "display_name": "Python 3 (ipykernel)",
   "language": "python",
   "name": "python3"
  },
  "language_info": {
   "codemirror_mode": {
    "name": "ipython",
    "version": 3
   },
   "file_extension": ".py",
   "mimetype": "text/x-python",
   "name": "python",
   "nbconvert_exporter": "python",
   "pygments_lexer": "ipython3",
   "version": "3.9.12"
  }
 },
 "nbformat": 4,
 "nbformat_minor": 5
}
