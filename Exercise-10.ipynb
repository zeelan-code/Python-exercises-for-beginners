{
 "cells": [
  {
   "cell_type": "markdown",
   "id": "c7897039",
   "metadata": {},
   "source": [
    "# Exercise 10: Create a new list from a two list using the following condition"
   ]
  },
  {
   "cell_type": "markdown",
   "id": "6a3ffe02",
   "metadata": {},
   "source": [
    "Create a new list from a two list using the following condition\n",
    "\n",
    "Given a two list of numbers, write a program to create a new list such that the new list should contain odd numbers from the first list and even numbers from the second list.\n",
    "\n",
    "Given:\n",
    "\n",
    "list1 = [10, 20, 25, 30, 35]\n",
    "list2 = [40, 45, 60, 75, 90]"
   ]
  },
  {
   "cell_type": "code",
   "execution_count": 2,
   "id": "84b24f64",
   "metadata": {},
   "outputs": [
    {
     "name": "stdout",
     "output_type": "stream",
     "text": [
      "Updated List: [25, 35, 40, 60, 90]\n"
     ]
    }
   ],
   "source": [
    "list1 = [10, 20, 25, 30, 35] \n",
    "list2 = [40, 45, 60, 75, 90]\n",
    "new=list()\n",
    "for i in list1:\n",
    "    if i%2!=0:\n",
    "        new.append(i)\n",
    "for i in list2:\n",
    "    if i%2==0:\n",
    "        new.append(i)\n",
    "print('Updated List:',new)"
   ]
  },
  {
   "cell_type": "code",
   "execution_count": null,
   "id": "6f5ae84a",
   "metadata": {},
   "outputs": [],
   "source": []
  }
 ],
 "metadata": {
  "kernelspec": {
   "display_name": "Python 3 (ipykernel)",
   "language": "python",
   "name": "python3"
  },
  "language_info": {
   "codemirror_mode": {
    "name": "ipython",
    "version": 3
   },
   "file_extension": ".py",
   "mimetype": "text/x-python",
   "name": "python",
   "nbconvert_exporter": "python",
   "pygments_lexer": "ipython3",
   "version": "3.9.12"
  }
 },
 "nbformat": 4,
 "nbformat_minor": 5
}
