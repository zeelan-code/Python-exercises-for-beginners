{
 "cells": [
  {
   "cell_type": "markdown",
   "id": "3f6ad8fc",
   "metadata": {},
   "source": [
    "# Exercise 15: Write a function called exponent(base, exp) that returns an int value of base raises to the power of exp."
   ]
  },
  {
   "cell_type": "markdown",
   "id": "25d2fa68",
   "metadata": {},
   "source": [
    "Note here exp is a non-negative integer, and the base is an integer.\n",
    "\n",
    "Expected output\n",
    "\n",
    "Case 1:\n",
    "\n",
    "base = 2\n",
    "exponent = 5\n",
    "\n",
    "2 raises to the power of 5: 32 i.e. (2 *2 * 2 *2 *2 = 32)\n",
    "Case 2:\n",
    "\n",
    "base = 5\n",
    "exponent = 4\n",
    "\n",
    "5 raises to the power of 4 is: 625 \n",
    "i.e. (5 *5 * 5 *5 = 625)"
   ]
  },
  {
   "cell_type": "code",
   "execution_count": 11,
   "id": "a7a271e3",
   "metadata": {},
   "outputs": [
    {
     "name": "stdout",
     "output_type": "stream",
     "text": [
      "2 raises to the power of 5 is:  32\n"
     ]
    }
   ],
   "source": [
    "def exponent(base,exp):\n",
    "    num=exp\n",
    "    res=1\n",
    "    while num>0:\n",
    "        res=res*base\n",
    "        num=num-1\n",
    "    print(base, \"raises to the power of\", exp, \"is: \", res)\n",
    "\n",
    "exponent(2,5)"
   ]
  },
  {
   "cell_type": "code",
   "execution_count": null,
   "id": "5397849b",
   "metadata": {},
   "outputs": [],
   "source": []
  }
 ],
 "metadata": {
  "kernelspec": {
   "display_name": "Python 3 (ipykernel)",
   "language": "python",
   "name": "python3"
  },
  "language_info": {
   "codemirror_mode": {
    "name": "ipython",
    "version": 3
   },
   "file_extension": ".py",
   "mimetype": "text/x-python",
   "name": "python",
   "nbconvert_exporter": "python",
   "pygments_lexer": "ipython3",
   "version": "3.9.12"
  }
 },
 "nbformat": 4,
 "nbformat_minor": 5
}
